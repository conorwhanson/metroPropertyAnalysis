{
 "cells": [
  {
   "cell_type": "code",
   "execution_count": null,
   "metadata": {},
   "outputs": [],
   "source": [
    "import pandas as pd\n",
    "import pdfplumber\n",
    "import datetime as dt\n",
    "import matplotlib.pyplot as plt\n",
    "pd.set_option('display.max_rows', None)\n",
    "\n",
    "from datetime import datetime"
   ]
  },
  {
   "cell_type": "code",
   "execution_count": 2,
   "metadata": {},
   "outputs": [],
   "source": [
    "# Put records docs into lists\n",
    "date_files = [\"records/Anoka/AnokaDates2024_1.pdf\",\n",
    "              \"records/Anoka/AnokaDates2024_2.pdf\",\n",
    "              \"records/Anoka/AnokaDates2024_3.pdf\",\n",
    "              \"records/Anoka/AnokaDates2024_4.pdf\",\n",
    "              \"records/Anoka/AnokaDates2024_5.pdf\",\n",
    "              \"records/Anoka/AnokaDates2024_6.pdf\",\n",
    "              \"records/Anoka/AnokaDates2024_7.pdf\",\n",
    "              \"records/Anoka/AnokaDates2024_8.pdf\",\n",
    "              \"records/Anoka/AnokaDates2024_9.pdf\",\n",
    "              \"records/Anoka/AnokaDates2024_10.pdf\",\n",
    "              \"records/Anoka/AnokaDates2024_11.pdf\"]\n",
    "\n",
    "sale_files = [\"records/Anoka/AnokaSales2024_1.pdf\",\n",
    "              \"records/Anoka/AnokaSales2024_2.pdf\",\n",
    "              \"records/Anoka/AnokaSales2024_3.pdf\",\n",
    "              \"records/Anoka/AnokaSales2024_4.pdf\",\n",
    "              \"records/Anoka/AnokaSales2024_5.pdf\",\n",
    "              \"records/Anoka/AnokaSales2024_6.pdf\",\n",
    "              \"records/Anoka/AnokaSales2024_7.pdf\",\n",
    "              \"records/Anoka/AnokaSales2024_8.pdf\",\n",
    "              \"records/Anoka/AnokaSales2024_9.pdf\",\n",
    "              \"records/Anoka/AnokaSales2024_10.pdf\",\n",
    "              \"records/Anoka/AnokaSales2024_11.pdf\"]"
   ]
  },
  {
   "cell_type": "code",
   "execution_count": 3,
   "metadata": {},
   "outputs": [],
   "source": [
    "# Create lists to hold extracted data\n",
    "parcel_date = []\n",
    "saleDate = []\n",
    "\n",
    "parcel_sales = []\n",
    "eCRV = []\n",
    "owner = []\n",
    "address = []\n",
    "city = []\n",
    "zip = []"
   ]
  },
  {
   "cell_type": "code",
   "execution_count": 4,
   "metadata": {},
   "outputs": [],
   "source": [
    "# Loop to extract date data\n",
    "for i in date_files:\n",
    "    pdf = pdfplumber.open(i)\n",
    "\n",
    "    for p in pdf.pages:\n",
    "        page = p.extract_table()\n",
    "\n",
    "        for x in page:\n",
    "            parcel_date.append(x[0])\n",
    "            saleDate.append(x[2])"
   ]
  },
  {
   "cell_type": "code",
   "execution_count": 5,
   "metadata": {},
   "outputs": [],
   "source": [
    "# Loop to extract sale data\n",
    "for s in sale_files:\n",
    "    pdf = pdfplumber.open(s)\n",
    "\n",
    "    for p in pdf.pages:\n",
    "        page = p.extract_table()\n",
    "        \n",
    "        for x in page:\n",
    "            parcel_sales.append(x[0])\n",
    "            eCRV.append(x[1])\n",
    "            owner.append(x[2])\n",
    "            address.append(x[3])\n",
    "            city.append(x[4])\n",
    "            zip.append(x[5])"
   ]
  },
  {
   "cell_type": "code",
   "execution_count": 6,
   "metadata": {},
   "outputs": [
    {
     "data": {
      "text/plain": [
       "7314"
      ]
     },
     "execution_count": 6,
     "metadata": {},
     "output_type": "execute_result"
    }
   ],
   "source": [
    "d = {\"ParcelID\": parcel_date, \"Date\": saleDate}\n",
    "df_dates = pd.DataFrame(d)\n",
    "df_dates['Date'] = df_dates['Date'].apply(lambda x: datetime.strptime(x, \"%d-%b-%Y\"))\n",
    "df_dates.sort_values(by = \"Date\", inplace = True)\n",
    "len(df_dates)"
   ]
  },
  {
   "cell_type": "code",
   "execution_count": 7,
   "metadata": {},
   "outputs": [
    {
     "data": {
      "text/plain": [
       "6651"
      ]
     },
     "execution_count": 7,
     "metadata": {},
     "output_type": "execute_result"
    }
   ],
   "source": [
    "df_dates.drop_duplicates(\"ParcelID\", inplace = True, keep = 'last')\n",
    "df_dates.reset_index(inplace = True, drop = True)\n",
    "len(df_dates)"
   ]
  },
  {
   "cell_type": "code",
   "execution_count": 8,
   "metadata": {},
   "outputs": [
    {
     "data": {
      "text/html": [
       "<div>\n",
       "<style scoped>\n",
       "    .dataframe tbody tr th:only-of-type {\n",
       "        vertical-align: middle;\n",
       "    }\n",
       "\n",
       "    .dataframe tbody tr th {\n",
       "        vertical-align: top;\n",
       "    }\n",
       "\n",
       "    .dataframe thead th {\n",
       "        text-align: right;\n",
       "    }\n",
       "</style>\n",
       "<table border=\"1\" class=\"dataframe\">\n",
       "  <thead>\n",
       "    <tr style=\"text-align: right;\">\n",
       "      <th></th>\n",
       "      <th>ParcelID</th>\n",
       "      <th>Date</th>\n",
       "    </tr>\n",
       "  </thead>\n",
       "  <tbody>\n",
       "    <tr>\n",
       "      <th>0</th>\n",
       "      <td>033124330013</td>\n",
       "      <td>2024-01-01</td>\n",
       "    </tr>\n",
       "    <tr>\n",
       "      <th>1</th>\n",
       "      <td>313223440063</td>\n",
       "      <td>2024-01-01</td>\n",
       "    </tr>\n",
       "    <tr>\n",
       "      <th>2</th>\n",
       "      <td>113024120020</td>\n",
       "      <td>2024-01-01</td>\n",
       "    </tr>\n",
       "  </tbody>\n",
       "</table>\n",
       "</div>"
      ],
      "text/plain": [
       "       ParcelID       Date\n",
       "0  033124330013 2024-01-01\n",
       "1  313223440063 2024-01-01\n",
       "2  113024120020 2024-01-01"
      ]
     },
     "execution_count": 8,
     "metadata": {},
     "output_type": "execute_result"
    }
   ],
   "source": [
    "df_dates.head(3)"
   ]
  },
  {
   "cell_type": "code",
   "execution_count": 9,
   "metadata": {},
   "outputs": [
    {
     "data": {
      "text/plain": [
       "7109"
      ]
     },
     "execution_count": 9,
     "metadata": {},
     "output_type": "execute_result"
    }
   ],
   "source": [
    "dSales = {\"ParcelID\": parcel_sales, \"eCRV\": eCRV, \"Owner Name\": owner, \n",
    "          \"Address\": address, \"City\": city, \"Zip\": zip}\n",
    "df_sales = pd.DataFrame(dSales)\n",
    "df_sales.sort_values(by = \"ParcelID\", inplace = True)\n",
    "len(df_sales)"
   ]
  },
  {
   "cell_type": "code",
   "execution_count": 10,
   "metadata": {},
   "outputs": [
    {
     "data": {
      "text/plain": [
       "6651"
      ]
     },
     "execution_count": 10,
     "metadata": {},
     "output_type": "execute_result"
    }
   ],
   "source": [
    "df_sales.drop_duplicates(\"ParcelID\", inplace = True, keep = 'last')\n",
    "df_sales.reset_index(inplace = True, drop = True)\n",
    "len(df_sales)"
   ]
  },
  {
   "cell_type": "code",
   "execution_count": 11,
   "metadata": {},
   "outputs": [
    {
     "data": {
      "text/html": [
       "<div>\n",
       "<style scoped>\n",
       "    .dataframe tbody tr th:only-of-type {\n",
       "        vertical-align: middle;\n",
       "    }\n",
       "\n",
       "    .dataframe tbody tr th {\n",
       "        vertical-align: top;\n",
       "    }\n",
       "\n",
       "    .dataframe thead th {\n",
       "        text-align: right;\n",
       "    }\n",
       "</style>\n",
       "<table border=\"1\" class=\"dataframe\">\n",
       "  <thead>\n",
       "    <tr style=\"text-align: right;\">\n",
       "      <th></th>\n",
       "      <th>ParcelID</th>\n",
       "      <th>eCRV</th>\n",
       "      <th>Owner Name</th>\n",
       "      <th>Address</th>\n",
       "      <th>City</th>\n",
       "      <th>Zip</th>\n",
       "    </tr>\n",
       "  </thead>\n",
       "  <tbody>\n",
       "    <tr>\n",
       "      <th>0</th>\n",
       "      <td>013024110021</td>\n",
       "      <td></td>\n",
       "      <td>REESE MASON</td>\n",
       "      <td>8355 WESTWOOD RD NE</td>\n",
       "      <td>SPRING LAKE PARK</td>\n",
       "      <td>55432</td>\n",
       "    </tr>\n",
       "    <tr>\n",
       "      <th>1</th>\n",
       "      <td>013024110023</td>\n",
       "      <td></td>\n",
       "      <td>LINDSEY TRUSTEE KEVIN K</td>\n",
       "      <td>8349 WESTWOOD RD NE</td>\n",
       "      <td>SPRING LAKE PARK</td>\n",
       "      <td>55432</td>\n",
       "    </tr>\n",
       "    <tr>\n",
       "      <th>2</th>\n",
       "      <td>013024110041</td>\n",
       "      <td></td>\n",
       "      <td>BOX FAMILY TRUST DATED JULY 1...</td>\n",
       "      <td>8432 WESTWOOD RD NE</td>\n",
       "      <td>SPRING LAKE PARK</td>\n",
       "      <td>55432</td>\n",
       "    </tr>\n",
       "  </tbody>\n",
       "</table>\n",
       "</div>"
      ],
      "text/plain": [
       "       ParcelID eCRV                        Owner Name              Address  \\\n",
       "0  013024110021                            REESE MASON  8355 WESTWOOD RD NE   \n",
       "1  013024110023                LINDSEY TRUSTEE KEVIN K  8349 WESTWOOD RD NE   \n",
       "2  013024110041       BOX FAMILY TRUST DATED JULY 1...  8432 WESTWOOD RD NE   \n",
       "\n",
       "               City    Zip  \n",
       "0  SPRING LAKE PARK  55432  \n",
       "1  SPRING LAKE PARK  55432  \n",
       "2  SPRING LAKE PARK  55432  "
      ]
     },
     "execution_count": 11,
     "metadata": {},
     "output_type": "execute_result"
    }
   ],
   "source": [
    "df_sales.head(3)"
   ]
  },
  {
   "cell_type": "code",
   "execution_count": 12,
   "metadata": {},
   "outputs": [],
   "source": [
    "df2 = df_sales.join(df_dates.set_index(\"ParcelID\"), on = \"ParcelID\", how = \"left\")"
   ]
  },
  {
   "cell_type": "code",
   "execution_count": 13,
   "metadata": {},
   "outputs": [],
   "source": [
    "df2.reset_index(inplace = True, drop = True)"
   ]
  },
  {
   "cell_type": "code",
   "execution_count": 14,
   "metadata": {},
   "outputs": [],
   "source": [
    "df_total = df2.groupby(df2['Date'].dt.month)['Owner Name'].count()"
   ]
  },
  {
   "cell_type": "code",
   "execution_count": 15,
   "metadata": {},
   "outputs": [],
   "source": [
    "df_totalSales = pd.DataFrame({\"Month\": df_total.index, \"Number of Sales\": df_total.values})"
   ]
  },
  {
   "cell_type": "code",
   "execution_count": 16,
   "metadata": {},
   "outputs": [
    {
     "data": {
      "text/html": [
       "<div>\n",
       "<style scoped>\n",
       "    .dataframe tbody tr th:only-of-type {\n",
       "        vertical-align: middle;\n",
       "    }\n",
       "\n",
       "    .dataframe tbody tr th {\n",
       "        vertical-align: top;\n",
       "    }\n",
       "\n",
       "    .dataframe thead th {\n",
       "        text-align: right;\n",
       "    }\n",
       "</style>\n",
       "<table border=\"1\" class=\"dataframe\">\n",
       "  <thead>\n",
       "    <tr style=\"text-align: right;\">\n",
       "      <th></th>\n",
       "      <th>Month</th>\n",
       "      <th>Number of Sales</th>\n",
       "    </tr>\n",
       "  </thead>\n",
       "  <tbody>\n",
       "    <tr>\n",
       "      <th>0</th>\n",
       "      <td>1</td>\n",
       "      <td>454</td>\n",
       "    </tr>\n",
       "    <tr>\n",
       "      <th>1</th>\n",
       "      <td>2</td>\n",
       "      <td>533</td>\n",
       "    </tr>\n",
       "    <tr>\n",
       "      <th>2</th>\n",
       "      <td>3</td>\n",
       "      <td>538</td>\n",
       "    </tr>\n",
       "    <tr>\n",
       "      <th>3</th>\n",
       "      <td>4</td>\n",
       "      <td>677</td>\n",
       "    </tr>\n",
       "    <tr>\n",
       "      <th>4</th>\n",
       "      <td>5</td>\n",
       "      <td>789</td>\n",
       "    </tr>\n",
       "    <tr>\n",
       "      <th>5</th>\n",
       "      <td>6</td>\n",
       "      <td>759</td>\n",
       "    </tr>\n",
       "    <tr>\n",
       "      <th>6</th>\n",
       "      <td>7</td>\n",
       "      <td>650</td>\n",
       "    </tr>\n",
       "    <tr>\n",
       "      <th>7</th>\n",
       "      <td>8</td>\n",
       "      <td>659</td>\n",
       "    </tr>\n",
       "    <tr>\n",
       "      <th>8</th>\n",
       "      <td>9</td>\n",
       "      <td>489</td>\n",
       "    </tr>\n",
       "    <tr>\n",
       "      <th>9</th>\n",
       "      <td>10</td>\n",
       "      <td>591</td>\n",
       "    </tr>\n",
       "    <tr>\n",
       "      <th>10</th>\n",
       "      <td>11</td>\n",
       "      <td>512</td>\n",
       "    </tr>\n",
       "  </tbody>\n",
       "</table>\n",
       "</div>"
      ],
      "text/plain": [
       "    Month  Number of Sales\n",
       "0       1              454\n",
       "1       2              533\n",
       "2       3              538\n",
       "3       4              677\n",
       "4       5              789\n",
       "5       6              759\n",
       "6       7              650\n",
       "7       8              659\n",
       "8       9              489\n",
       "9      10              591\n",
       "10     11              512"
      ]
     },
     "execution_count": 16,
     "metadata": {},
     "output_type": "execute_result"
    }
   ],
   "source": [
    "df_totalSales"
   ]
  },
  {
   "cell_type": "code",
   "execution_count": 17,
   "metadata": {},
   "outputs": [],
   "source": [
    "privEqui = \"LLC|INC|INCORPORATED|FUNDS|INVESTMENT\""
   ]
  },
  {
   "cell_type": "code",
   "execution_count": 18,
   "metadata": {},
   "outputs": [],
   "source": [
    "df_keep = df2[df2['Owner Name'].str.contains(privEqui)]"
   ]
  },
  {
   "cell_type": "code",
   "execution_count": 19,
   "metadata": {},
   "outputs": [],
   "source": [
    "df_keep.reset_index(inplace = True, drop = True)"
   ]
  },
  {
   "cell_type": "code",
   "execution_count": 20,
   "metadata": {},
   "outputs": [],
   "source": [
    "df2024 = df_keep.groupby(df_keep['Date'].dt.month)['Owner Name'].count()"
   ]
  },
  {
   "cell_type": "code",
   "execution_count": 21,
   "metadata": {},
   "outputs": [],
   "source": [
    "df_totalSales['Corp Sales Count'] = df2024.values"
   ]
  },
  {
   "cell_type": "code",
   "execution_count": 22,
   "metadata": {},
   "outputs": [
    {
     "data": {
      "text/html": [
       "<div>\n",
       "<style scoped>\n",
       "    .dataframe tbody tr th:only-of-type {\n",
       "        vertical-align: middle;\n",
       "    }\n",
       "\n",
       "    .dataframe tbody tr th {\n",
       "        vertical-align: top;\n",
       "    }\n",
       "\n",
       "    .dataframe thead th {\n",
       "        text-align: right;\n",
       "    }\n",
       "</style>\n",
       "<table border=\"1\" class=\"dataframe\">\n",
       "  <thead>\n",
       "    <tr style=\"text-align: right;\">\n",
       "      <th></th>\n",
       "      <th>Month</th>\n",
       "      <th>Number of Sales</th>\n",
       "      <th>Corp Sales Count</th>\n",
       "    </tr>\n",
       "  </thead>\n",
       "  <tbody>\n",
       "    <tr>\n",
       "      <th>0</th>\n",
       "      <td>1</td>\n",
       "      <td>454</td>\n",
       "      <td>22</td>\n",
       "    </tr>\n",
       "    <tr>\n",
       "      <th>1</th>\n",
       "      <td>2</td>\n",
       "      <td>533</td>\n",
       "      <td>24</td>\n",
       "    </tr>\n",
       "    <tr>\n",
       "      <th>2</th>\n",
       "      <td>3</td>\n",
       "      <td>538</td>\n",
       "      <td>17</td>\n",
       "    </tr>\n",
       "    <tr>\n",
       "      <th>3</th>\n",
       "      <td>4</td>\n",
       "      <td>677</td>\n",
       "      <td>22</td>\n",
       "    </tr>\n",
       "    <tr>\n",
       "      <th>4</th>\n",
       "      <td>5</td>\n",
       "      <td>789</td>\n",
       "      <td>32</td>\n",
       "    </tr>\n",
       "    <tr>\n",
       "      <th>5</th>\n",
       "      <td>6</td>\n",
       "      <td>759</td>\n",
       "      <td>40</td>\n",
       "    </tr>\n",
       "    <tr>\n",
       "      <th>6</th>\n",
       "      <td>7</td>\n",
       "      <td>650</td>\n",
       "      <td>22</td>\n",
       "    </tr>\n",
       "    <tr>\n",
       "      <th>7</th>\n",
       "      <td>8</td>\n",
       "      <td>659</td>\n",
       "      <td>34</td>\n",
       "    </tr>\n",
       "    <tr>\n",
       "      <th>8</th>\n",
       "      <td>9</td>\n",
       "      <td>489</td>\n",
       "      <td>27</td>\n",
       "    </tr>\n",
       "    <tr>\n",
       "      <th>9</th>\n",
       "      <td>10</td>\n",
       "      <td>591</td>\n",
       "      <td>39</td>\n",
       "    </tr>\n",
       "    <tr>\n",
       "      <th>10</th>\n",
       "      <td>11</td>\n",
       "      <td>512</td>\n",
       "      <td>42</td>\n",
       "    </tr>\n",
       "  </tbody>\n",
       "</table>\n",
       "</div>"
      ],
      "text/plain": [
       "    Month  Number of Sales  Corp Sales Count\n",
       "0       1              454                22\n",
       "1       2              533                24\n",
       "2       3              538                17\n",
       "3       4              677                22\n",
       "4       5              789                32\n",
       "5       6              759                40\n",
       "6       7              650                22\n",
       "7       8              659                34\n",
       "8       9              489                27\n",
       "9      10              591                39\n",
       "10     11              512                42"
      ]
     },
     "execution_count": 22,
     "metadata": {},
     "output_type": "execute_result"
    }
   ],
   "source": [
    "df_totalSales"
   ]
  },
  {
   "cell_type": "code",
   "execution_count": 23,
   "metadata": {},
   "outputs": [],
   "source": [
    "df_totalSales['Percentage of Total Sales'] = [round((df_totalSales['Corp Sales Count'][i]/df_totalSales['Number of Sales'][i] *100), 2) for i in range(len(df_totalSales))]"
   ]
  },
  {
   "cell_type": "code",
   "execution_count": 24,
   "metadata": {},
   "outputs": [
    {
     "data": {
      "text/html": [
       "<div>\n",
       "<style scoped>\n",
       "    .dataframe tbody tr th:only-of-type {\n",
       "        vertical-align: middle;\n",
       "    }\n",
       "\n",
       "    .dataframe tbody tr th {\n",
       "        vertical-align: top;\n",
       "    }\n",
       "\n",
       "    .dataframe thead th {\n",
       "        text-align: right;\n",
       "    }\n",
       "</style>\n",
       "<table border=\"1\" class=\"dataframe\">\n",
       "  <thead>\n",
       "    <tr style=\"text-align: right;\">\n",
       "      <th></th>\n",
       "      <th>Month</th>\n",
       "      <th>Number of Sales</th>\n",
       "      <th>Corp Sales Count</th>\n",
       "      <th>Percentage of Total Sales</th>\n",
       "    </tr>\n",
       "  </thead>\n",
       "  <tbody>\n",
       "    <tr>\n",
       "      <th>0</th>\n",
       "      <td>1</td>\n",
       "      <td>454</td>\n",
       "      <td>22</td>\n",
       "      <td>4.85</td>\n",
       "    </tr>\n",
       "    <tr>\n",
       "      <th>1</th>\n",
       "      <td>2</td>\n",
       "      <td>533</td>\n",
       "      <td>24</td>\n",
       "      <td>4.50</td>\n",
       "    </tr>\n",
       "    <tr>\n",
       "      <th>2</th>\n",
       "      <td>3</td>\n",
       "      <td>538</td>\n",
       "      <td>17</td>\n",
       "      <td>3.16</td>\n",
       "    </tr>\n",
       "    <tr>\n",
       "      <th>3</th>\n",
       "      <td>4</td>\n",
       "      <td>677</td>\n",
       "      <td>22</td>\n",
       "      <td>3.25</td>\n",
       "    </tr>\n",
       "    <tr>\n",
       "      <th>4</th>\n",
       "      <td>5</td>\n",
       "      <td>789</td>\n",
       "      <td>32</td>\n",
       "      <td>4.06</td>\n",
       "    </tr>\n",
       "    <tr>\n",
       "      <th>5</th>\n",
       "      <td>6</td>\n",
       "      <td>759</td>\n",
       "      <td>40</td>\n",
       "      <td>5.27</td>\n",
       "    </tr>\n",
       "    <tr>\n",
       "      <th>6</th>\n",
       "      <td>7</td>\n",
       "      <td>650</td>\n",
       "      <td>22</td>\n",
       "      <td>3.38</td>\n",
       "    </tr>\n",
       "    <tr>\n",
       "      <th>7</th>\n",
       "      <td>8</td>\n",
       "      <td>659</td>\n",
       "      <td>34</td>\n",
       "      <td>5.16</td>\n",
       "    </tr>\n",
       "    <tr>\n",
       "      <th>8</th>\n",
       "      <td>9</td>\n",
       "      <td>489</td>\n",
       "      <td>27</td>\n",
       "      <td>5.52</td>\n",
       "    </tr>\n",
       "    <tr>\n",
       "      <th>9</th>\n",
       "      <td>10</td>\n",
       "      <td>591</td>\n",
       "      <td>39</td>\n",
       "      <td>6.60</td>\n",
       "    </tr>\n",
       "    <tr>\n",
       "      <th>10</th>\n",
       "      <td>11</td>\n",
       "      <td>512</td>\n",
       "      <td>42</td>\n",
       "      <td>8.20</td>\n",
       "    </tr>\n",
       "  </tbody>\n",
       "</table>\n",
       "</div>"
      ],
      "text/plain": [
       "    Month  Number of Sales  Corp Sales Count  Percentage of Total Sales\n",
       "0       1              454                22                       4.85\n",
       "1       2              533                24                       4.50\n",
       "2       3              538                17                       3.16\n",
       "3       4              677                22                       3.25\n",
       "4       5              789                32                       4.06\n",
       "5       6              759                40                       5.27\n",
       "6       7              650                22                       3.38\n",
       "7       8              659                34                       5.16\n",
       "8       9              489                27                       5.52\n",
       "9      10              591                39                       6.60\n",
       "10     11              512                42                       8.20"
      ]
     },
     "execution_count": 24,
     "metadata": {},
     "output_type": "execute_result"
    }
   ],
   "source": [
    "df_totalSales"
   ]
  },
  {
   "cell_type": "code",
   "execution_count": null,
   "metadata": {},
   "outputs": [],
   "source": [
    "df_totalSales.to_csv(\"AnokaSalesData2024.csv\", index = False)"
   ]
  },
  {
   "cell_type": "code",
   "execution_count": 25,
   "metadata": {},
   "outputs": [],
   "source": [
    "# Load Anoka DataFrames to plot\n",
    "df1 = pd.read_csv(\"records/Anoka/AnokaSalesData2019.csv\")\n",
    "df2 = pd.read_csv(\"records/Anoka/AnokaSalesData2020.csv\")\n",
    "df3 = pd.read_csv(\"records/Anoka/AnokaSalesData2021.csv\")\n",
    "df4 = pd.read_csv(\"records/Anoka/AnokaSalesData2022.csv\")\n",
    "df5 = pd.read_csv(\"records/Anoka/AnokaSalesData2023.csv\")\n",
    "df6 = pd.read_csv(\"records/Anoka/AnokaSalesData2024.csv\")"
   ]
  },
  {
   "cell_type": "code",
   "execution_count": 26,
   "metadata": {},
   "outputs": [],
   "source": [
    "df1['Month'] = df1['Month'].apply(lambda x: \"2019 \" + str(x).replace(\".0\", \"\") if x == 1.0 else str(x).replace(\".0\", \"\"))\n",
    "df2['Month'] = df2['Month'].apply(lambda x: \"2020 \" + str(x).replace(\".0\", \"\") if x == 1.0 else str(x).replace(\".0\", \"\"))\n",
    "df3['Month'] = df3['Month'].apply(lambda x: \"2021 \" + str(x).replace(\".0\", \"\") if x == 1.0 else str(x).replace(\".0\", \"\"))\n",
    "df4['Month'] = df4['Month'].apply(lambda x: \"2022 \" + str(x).replace(\".0\", \"\") if x == 1.0 else str(x).replace(\".0\", \"\"))\n",
    "df5['Month'] = df5['Month'].apply(lambda x: \"2023 \" + str(x).replace(\".0\", \"\") if x == 1.0 else str(x).replace(\".0\", \"\"))\n",
    "df6['Month'] = df6['Month'].apply(lambda x: \"2024 \" + str(x).replace(\".0\", \"\") if x == 1.0 else str(x).replace(\".0\", \"\"))"
   ]
  },
  {
   "cell_type": "code",
   "execution_count": 27,
   "metadata": {},
   "outputs": [],
   "source": [
    "df = pd.concat([df1, df2, df3, df4, df5, df6], ignore_index = True)"
   ]
  },
  {
   "cell_type": "code",
   "execution_count": 28,
   "metadata": {},
   "outputs": [],
   "source": [
    "fontdict = {\"fontfamily\": \"Gill Sans\", \"fontsize\": 16}"
   ]
  },
  {
   "cell_type": "code",
   "execution_count": 29,
   "metadata": {},
   "outputs": [
    {
     "data": {
      "image/png": "[encoded data removed]",
      "text/plain": [
       "<Figure size 1500x700 with 1 Axes>"
      ]
     },
     "metadata": {},
     "output_type": "display_data"
    }
   ],
   "source": [
    "\n",
    "df.plot(kind = 'line', x = 'Month', y = 'Percentage of Total Sales', rot = 80, figsize=(15, 7), legend = False)\n",
    "plt.xticks(range(len(df['Month'])), df['Month'])\n",
    "plt.title(\"Residential Property Sales Anoka County: 2019 - Nov 2024\", pad = 30, **fontdict)\n",
    "plt.text(x = 10.8, y = 9.3, s = \"Percentage of 201 coded sales with owner names containing 'LLC', 'Inc', 'Incorporated', 'Funds', or 'Investment'\")\n",
    "plt.text(x = 50.0, y = -1, s = \"Data source: Anoka County Land Records & Recording\")\n",
    "plt.grid(axis = 'y')\n",
    "plt.show()"
   ]
  },
  {
   "cell_type": "code",
   "execution_count": null,
   "metadata": {},
   "outputs": [],
   "source": []
  }
 ],
 "metadata": {
  "kernelspec": {
   "display_name": "3.11.8",
   "language": "python",
   "name": "python3"
  },
  "language_info": {
   "codemirror_mode": {
    "name": "ipython",
    "version": 3
   },
   "file_extension": ".py",
   "mimetype": "text/x-python",
   "name": "python",
   "nbconvert_exporter": "python",
   "pygments_lexer": "ipython3",
   "version": "3.11.8"
  }
 },
 "nbformat": 4,
 "nbformat_minor": 2
}
